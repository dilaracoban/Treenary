{
 "cells": [
  {
   "cell_type": "code",
   "execution_count": 1,
   "metadata": {},
   "outputs": [],
   "source": [
    "import numpy as np\n",
    "import pandas as pd"
   ]
  },
  {
   "cell_type": "code",
   "execution_count": 2,
   "metadata": {},
   "outputs": [],
   "source": [
    "file_path = 'X_set.txt'"
   ]
  },
  {
   "cell_type": "code",
   "execution_count": 3,
   "metadata": {},
   "outputs": [],
   "source": [
    "# Initialize lists to hold the phylogenetic position strings and amino acid sequences\n",
    "specie_code = []\n",
    "amino_acid_sequences = []\n",
    "\n",
    "# Read the file\n",
    "with open(file_path, 'r') as file:\n",
    "    for line in file:\n",
    "        parts = line.strip().split(' ')\n",
    "        specie_code.append(parts[0])\n",
    "        amino_acid_sequences.append([parts[1]])"
   ]
  },
  {
   "cell_type": "code",
   "execution_count": 4,
   "metadata": {},
   "outputs": [
    {
     "data": {
      "text/plain": [
       "['111133333333333333333333333333',\n",
       " '111211333333333333333333333333',\n",
       " '111212333333333333333333333333',\n",
       " '111221333333333333333333333333',\n",
       " '111222333333333333333333333333']"
      ]
     },
     "execution_count": 4,
     "metadata": {},
     "output_type": "execute_result"
    }
   ],
   "source": [
    "specie_code[0:5]"
   ]
  },
  {
   "cell_type": "code",
   "execution_count": 5,
   "metadata": {},
   "outputs": [
    {
     "data": {
      "text/plain": [
       "[['---LSQF--LLMLWVPGSKGEIVLTQSPASVSVSPGERVTISCQASESVGNTYLNWLQQKSGQSPRWLIYQVSKLESGIPARFRGSGSGTDFTFTISRVEAEDVAHYYSQQ-----'],\n",
       " ['MESLSQC--LLMLWVPVSRGAIVLTQSPALVSVSPGERVTISCKASQSVGNTYLSWFRQKPGQSPRGLIYKVSNLPSGVPSRFRGSGAEKDFTLTISRVEAVDGAVYYCAQASYSP'],\n",
       " ['MESLSQC--LLMLWVPVSRGAIVLTQSPASVSVSPGERVTISCKASQSLGNTYLHWFQQKPGQSPRRLIYQVSNLLSGVPSRFSGSGAGKDFSLTISSVEAGDGAVYYCFQGSYDP'],\n",
       " ['MEAPSQF--LLMLWVPGSRGEVVLTQSPASVSVSPGERVTISCQASESVGNTYLNWFQQKPGQSPRLLIYQISKLDSGIPARFGGSGADRNFTFTISSVSAEDGADYYCFQDTFYP'],\n",
       " ['METLSQF--LLMLWVPGSRGEVVLTQSAASVSVSPGERVTISCQASQSVGRTYLDWIQQKPGQSPRLLIYQVSNLDSGIPARFSGSGADRDFTLTINSVSAEDGADYYCAQRSFYP']]"
      ]
     },
     "execution_count": 5,
     "metadata": {},
     "output_type": "execute_result"
    }
   ],
   "source": [
    "amino_acid_sequences[0:5]"
   ]
  },
  {
   "cell_type": "code",
   "execution_count": 6,
   "metadata": {},
   "outputs": [
    {
     "name": "stdout",
     "output_type": "stream",
     "text": [
      "20\n"
     ]
    }
   ],
   "source": [
    "amino_acid_set = set()\n",
    "\n",
    "for seq in amino_acid_sequences:\n",
    "    for acid in seq[0]:\n",
    "        if acid != \"-\":\n",
    "            amino_acid_set.add(acid)\n",
    "\n",
    "# 20 amino acids\n",
    "print(len(amino_acid_set) )\n",
    "amino_acids_list = list(amino_acid_set)"
   ]
  },
  {
   "cell_type": "code",
   "execution_count": 7,
   "metadata": {},
   "outputs": [],
   "source": [
    "import string\n",
    "from typing import Iterable, Tuple\n",
    "\n",
    "class Tokenizer:\n",
    "    ''' \n",
    "    To encode and decode any string using all ASCII letters \n",
    "    '''\n",
    "    # class attribute \n",
    "    amino_acids = amino_acids_list\n",
    "\n",
    "    def __init__(self, special_tokens = Iterable[str]):\n",
    "        self.vocab = Tokenizer.amino_acids + list(special_tokens)\n",
    "        self.token2idx = {token:i for i, token in enumerate(self.vocab)} \n",
    "        self.idx2token = {i:token for token, i  in self.token2idx.items()}\n",
    "\n",
    "    def encode(self, inputs: Iterable[str]) -> Iterable[int]:\n",
    "        return [self.token2idx[token] for token in inputs]\n",
    "    \n",
    "    def decode(self, inputs: Iterable[int]) -> Iterable[str]:\n",
    "        return [self.idx2token[idx] for idx in inputs]\n",
    "\n",
    "    def __len__(self):\n",
    "        return len(self.vocab)"
   ]
  },
  {
   "cell_type": "code",
   "execution_count": 8,
   "metadata": {},
   "outputs": [],
   "source": [
    "amino_acid_tokenizer = Tokenizer(special_tokens=\"-\")"
   ]
  },
  {
   "cell_type": "code",
   "execution_count": 9,
   "metadata": {},
   "outputs": [
    {
     "data": {
      "text/plain": [
       "[20,\n",
       " 20,\n",
       " 20,\n",
       " 8,\n",
       " 16,\n",
       " 18,\n",
       " 6,\n",
       " 20,\n",
       " 20,\n",
       " 8,\n",
       " 8,\n",
       " 10,\n",
       " 8,\n",
       " 14,\n",
       " 17,\n",
       " 13,\n",
       " 1,\n",
       " 16,\n",
       " 11,\n",
       " 1,\n",
       " 5,\n",
       " 0,\n",
       " 17,\n",
       " 8,\n",
       " 9,\n",
       " 18,\n",
       " 16,\n",
       " 13,\n",
       " 12,\n",
       " 16,\n",
       " 17,\n",
       " 16,\n",
       " 17,\n",
       " 16,\n",
       " 13,\n",
       " 1,\n",
       " 5,\n",
       " 3,\n",
       " 17,\n",
       " 9,\n",
       " 0,\n",
       " 16,\n",
       " 19,\n",
       " 18,\n",
       " 12,\n",
       " 16,\n",
       " 5,\n",
       " 16,\n",
       " 17,\n",
       " 1,\n",
       " 2,\n",
       " 9,\n",
       " 15,\n",
       " 8,\n",
       " 2,\n",
       " 14,\n",
       " 8,\n",
       " 18,\n",
       " 18,\n",
       " 11,\n",
       " 16,\n",
       " 1,\n",
       " 18,\n",
       " 16,\n",
       " 13,\n",
       " 3,\n",
       " 14,\n",
       " 8,\n",
       " 0,\n",
       " 15,\n",
       " 18,\n",
       " 17,\n",
       " 16,\n",
       " 11,\n",
       " 8,\n",
       " 5,\n",
       " 16,\n",
       " 1,\n",
       " 0,\n",
       " 13,\n",
       " 12,\n",
       " 3,\n",
       " 6,\n",
       " 3,\n",
       " 1,\n",
       " 16,\n",
       " 1,\n",
       " 16,\n",
       " 1,\n",
       " 9,\n",
       " 7,\n",
       " 6,\n",
       " 9,\n",
       " 6,\n",
       " 9,\n",
       " 0,\n",
       " 16,\n",
       " 3,\n",
       " 17,\n",
       " 5,\n",
       " 12,\n",
       " 5,\n",
       " 7,\n",
       " 17,\n",
       " 12,\n",
       " 4,\n",
       " 15,\n",
       " 15,\n",
       " 16,\n",
       " 18,\n",
       " 18,\n",
       " 20,\n",
       " 20,\n",
       " 20,\n",
       " 20,\n",
       " 20]"
      ]
     },
     "execution_count": 9,
     "metadata": {},
     "output_type": "execute_result"
    }
   ],
   "source": [
    "# encode some proiens\n",
    "\n",
    "amino_acid_tokenizer.encode(amino_acid_sequences[0][0])"
   ]
  },
  {
   "cell_type": "code",
   "execution_count": 10,
   "metadata": {},
   "outputs": [
    {
     "data": {
      "text/plain": [
       "['-',\n",
       " '-',\n",
       " '-',\n",
       " 'L',\n",
       " 'S',\n",
       " 'Q',\n",
       " 'F',\n",
       " '-',\n",
       " '-',\n",
       " 'L',\n",
       " 'L',\n",
       " 'M',\n",
       " 'L',\n",
       " 'W',\n",
       " 'V',\n",
       " 'P',\n",
       " 'G',\n",
       " 'S',\n",
       " 'K',\n",
       " 'G',\n",
       " 'E',\n",
       " 'I',\n",
       " 'V',\n",
       " 'L',\n",
       " 'T',\n",
       " 'Q',\n",
       " 'S',\n",
       " 'P',\n",
       " 'A',\n",
       " 'S',\n",
       " 'V',\n",
       " 'S',\n",
       " 'V',\n",
       " 'S',\n",
       " 'P',\n",
       " 'G',\n",
       " 'E',\n",
       " 'R',\n",
       " 'V',\n",
       " 'T',\n",
       " 'I',\n",
       " 'S',\n",
       " 'C',\n",
       " 'Q',\n",
       " 'A',\n",
       " 'S',\n",
       " 'E',\n",
       " 'S',\n",
       " 'V',\n",
       " 'G',\n",
       " 'N',\n",
       " 'T',\n",
       " 'Y',\n",
       " 'L',\n",
       " 'N',\n",
       " 'W',\n",
       " 'L',\n",
       " 'Q',\n",
       " 'Q',\n",
       " 'K',\n",
       " 'S',\n",
       " 'G',\n",
       " 'Q',\n",
       " 'S',\n",
       " 'P',\n",
       " 'R',\n",
       " 'W',\n",
       " 'L',\n",
       " 'I',\n",
       " 'Y',\n",
       " 'Q',\n",
       " 'V',\n",
       " 'S',\n",
       " 'K',\n",
       " 'L',\n",
       " 'E',\n",
       " 'S',\n",
       " 'G',\n",
       " 'I',\n",
       " 'P',\n",
       " 'A',\n",
       " 'R',\n",
       " 'F',\n",
       " 'R',\n",
       " 'G',\n",
       " 'S',\n",
       " 'G',\n",
       " 'S',\n",
       " 'G',\n",
       " 'T',\n",
       " 'D',\n",
       " 'F',\n",
       " 'T',\n",
       " 'F',\n",
       " 'T',\n",
       " 'I',\n",
       " 'S',\n",
       " 'R',\n",
       " 'V',\n",
       " 'E',\n",
       " 'A',\n",
       " 'E',\n",
       " 'D',\n",
       " 'V',\n",
       " 'A',\n",
       " 'H',\n",
       " 'Y',\n",
       " 'Y',\n",
       " 'S',\n",
       " 'Q',\n",
       " 'Q',\n",
       " '-',\n",
       " '-',\n",
       " '-',\n",
       " '-',\n",
       " '-']"
      ]
     },
     "execution_count": 10,
     "metadata": {},
     "output_type": "execute_result"
    }
   ],
   "source": [
    "amino_acid_tokenizer.decode(amino_acid_tokenizer.encode(amino_acid_sequences[0][0]))"
   ]
  },
  {
   "cell_type": "code",
   "execution_count": null,
   "metadata": {},
   "outputs": [],
   "source": []
  },
  {
   "cell_type": "code",
   "execution_count": null,
   "metadata": {},
   "outputs": [],
   "source": []
  }
 ],
 "metadata": {
  "kernelspec": {
   "display_name": ".venv",
   "language": "python",
   "name": "python3"
  },
  "language_info": {
   "codemirror_mode": {
    "name": "ipython",
    "version": 3
   },
   "file_extension": ".py",
   "mimetype": "text/x-python",
   "name": "python",
   "nbconvert_exporter": "python",
   "pygments_lexer": "ipython3",
   "version": "3.12.4"
  }
 },
 "nbformat": 4,
 "nbformat_minor": 2
}
